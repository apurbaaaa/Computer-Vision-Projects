{
 "cells": [
  {
   "cell_type": "code",
   "execution_count": 1,
   "id": "eea92e9c-f779-4a10-b67e-586f9bb6411e",
   "metadata": {},
   "outputs": [],
   "source": [
    "import pytesseract\n",
    "from PIL import Image\n",
    "import cv2\n",
    "from easyocr import Reader\n",
    "import os"
   ]
  },
  {
   "cell_type": "code",
   "execution_count": 6,
   "id": "5a074230-db3d-490e-8fc9-f82836f324f6",
   "metadata": {},
   "outputs": [],
   "source": [
    "image_path = \"./data/image2.jpg\"\n",
    "\n",
    "def read_text_tesseract(image_path):\n",
    "    \n",
    "\n",
    "    text = pytesseract.image_to_string(Image.open(image_path), lang = 'eng')\n",
    "    return text\n",
    "\n",
    "def read_text_easyocr(image_path):\n",
    "    reader = Reader(['en'])\n",
    "\n",
    "    results = reader.readtext(Image.open(image_path))\n",
    "    text = ''\n",
    "    for i in results:\n",
    "        text = text + i[1] + ' '\n",
    "        \n",
    "    text = text[:-1]\n",
    "    return text"
   ]
  },
  {
   "cell_type": "code",
   "execution_count": 7,
   "id": "171a8ca6-cb95-4fe8-a948-49a2483854b6",
   "metadata": {},
   "outputs": [
    {
     "name": "stdout",
     "output_type": "stream",
     "text": [
      "./data/image2.jpg\n"
     ]
    }
   ],
   "source": [
    "print(image_path)"
   ]
  },
  {
   "cell_type": "markdown",
   "id": "94e7455d-ddf3-4280-b9ad-1dcdbda27398",
   "metadata": {},
   "source": [
    "Using Similarity Metrics, Jaccard Index"
   ]
  },
  {
   "cell_type": "code",
   "execution_count": 8,
   "id": "4de7175f-908b-44a9-ab97-726e298c51af",
   "metadata": {},
   "outputs": [],
   "source": [
    "def jaccard_index(sentence1, sentence2):\n",
    "    # Convert sentences to sets of lowercase words\n",
    "    set1 = set(sentence1.lower().split())\n",
    "    set2 = set(sentence2.lower().split())\n",
    "    \n",
    "    # Compute intersection and union\n",
    "    intersection = set1.intersection(set2)\n",
    "    union = set1.union(set2)\n",
    "    \n",
    "    # Avoid division by zero\n",
    "    if not union:\n",
    "        return 0.0\n",
    "\n",
    "    return len(intersection) / len(union)\n"
   ]
  },
  {
   "cell_type": "code",
   "execution_count": 9,
   "id": "b2422a61-4faf-42b4-9816-d9452632def4",
   "metadata": {},
   "outputs": [
    {
     "name": "stdout",
     "output_type": "stream",
     "text": [
      "score tesseract 0.0\n",
      "score easyocr 0.0\n"
     ]
    }
   ],
   "source": [
    "score_tesseract = 0\n",
    "score_easyocr = 0\n",
    "\n",
    "\n",
    "for image_path_ in os.listdir('./data'):\n",
    "    image_path = os.path.join('./data', image_path_).lower()\n",
    "\n",
    "    gt = image_path[:-4].replace('_', ' ') \n",
    "    score_tesseract += jaccard_index(gt, read_text_tesseract(image_path).lower().replace('\\n', '').replace('.', '').replace('?', '').replace('!', ''))\n",
    "    score_easyocr += jaccard_index(gt, read_text_easyocr(image_path).lower().replace('\\n', '').replace('.', '').replace('?', '').replace('!', ''))\n",
    "print('score tesseract', score_tesseract/2)\n",
    "print('score easyocr', score_easyocr/2)"
   ]
  },
  {
   "cell_type": "code",
   "execution_count": null,
   "id": "854f5606-d129-43b3-8d9f-62f3137127b5",
   "metadata": {},
   "outputs": [],
   "source": []
  }
 ],
 "metadata": {
  "kernelspec": {
   "display_name": "Python (venv)",
   "language": "python",
   "name": "venv"
  },
  "language_info": {
   "codemirror_mode": {
    "name": "ipython",
    "version": 3
   },
   "file_extension": ".py",
   "mimetype": "text/x-python",
   "name": "python",
   "nbconvert_exporter": "python",
   "pygments_lexer": "ipython3",
   "version": "3.10.16"
  }
 },
 "nbformat": 4,
 "nbformat_minor": 5
}
