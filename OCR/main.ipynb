{
 "cells": [
  {
   "cell_type": "code",
   "execution_count": 8,
   "id": "eea92e9c-f779-4a10-b67e-586f9bb6411e",
   "metadata": {},
   "outputs": [],
   "source": [
    "import pytesseract\n",
    "from PIL import Image\n",
    "import cv2"
   ]
  },
  {
   "cell_type": "code",
   "execution_count": 7,
   "id": "5a074230-db3d-490e-8fc9-f82836f324f6",
   "metadata": {},
   "outputs": [
    {
     "name": "stdout",
     "output_type": "stream",
     "text": [
      "\n"
     ]
    }
   ],
   "source": [
    "image_path = \"./data/image.jpg\"\n",
    "text = pytesseract.image_to_string(Image.open(image_path), lang = 'eng')\n",
    "print(text)"
   ]
  },
  {
   "cell_type": "code",
   "execution_count": 11,
   "id": "171a8ca6-cb95-4fe8-a948-49a2483854b6",
   "metadata": {},
   "outputs": [
    {
     "name": "stdout",
     "output_type": "stream",
     "text": [
      "./data/image.jpg\n"
     ]
    }
   ],
   "source": [
    "print(image_path)"
   ]
  },
  {
   "cell_type": "code",
   "execution_count": 13,
   "id": "9031e672-3941-4599-8888-2da64bbab700",
   "metadata": {},
   "outputs": [],
   "source": [
    "from easyocr import Reader\n",
    "reader = Reader(['en'])\n",
    "\n",
    "results = reader.readtext(Image.open(image_path))"
   ]
  },
  {
   "cell_type": "code",
   "execution_count": 14,
   "id": "462086a9-bab7-4bcb-a204-8805486c5276",
   "metadata": {},
   "outputs": [
    {
     "name": "stdout",
     "output_type": "stream",
     "text": [
      "[([[np.int32(1664), np.int32(640)], [np.int32(2025), np.int32(640)], [np.int32(2025), np.int32(943)], [np.int32(1664), np.int32(943)]], '7$', np.float64(0.2854817971520672)), ([[np.int32(136), np.int32(930)], [np.int32(199), np.int32(930)], [np.int32(199), np.int32(983)], [np.int32(136), np.int32(983)]], 'L', np.float64(0.1639576334757784)), ([[0, np.int32(1093)], [np.int32(193), np.int32(1093)], [np.int32(193), np.int32(1322)], [0, np.int32(1322)]], 'R', np.float64(0.9986379019643579)), ([[np.float64(2.3839228142319655), np.float64(-17.98945382442658)], [np.float64(808.9748760268019), np.float64(166.04929929993546)], [np.float64(765.6160771857681), np.float64(309.98945382442656)], [np.float64(-39.97487602680188), np.float64(124.95070070006456)]], 'ECEMBER', np.float64(0.7447494762862241)), ([[np.float64(1549.2178601176706), np.float64(28.003871884727985)], [np.float64(3363.9721344232357), np.float64(584.9019092873742)], [np.float64(3139.7821398823294), np.float64(1195.996128115272)], [np.float64(1324.0278655767645), np.float64(639.0980907126258)]], 'ccydal', np.float64(0.7149521086305578)), ([[np.float64(2622.472628084549), np.float64(311.04671727347454)], [np.float64(2717.9946145363974), np.float64(344.82032312781615)], [np.float64(2707.527371915451), np.float64(372.95328272652546)], [np.float64(2612.0053854636026), np.float64(339.17967687218385)]], '', np.float64(0.0)), ([[np.float64(2.2477948405921087), np.float64(302.0134760525198)], [np.float64(627.9978910735077), np.float64(457.70239209502114)], [np.float64(575.7522051594079), np.float64(622.9865239474802)], [np.float64(-48.99789107350769), np.float64(467.29760790497886)]], 'FNBER', np.float64(0.928002706600323)), ([[np.float64(3.129379870962404), np.float64(671.018054890194)], [np.float64(431.82597605747816), np.float64(781.3020894652813)], [np.float64(377.8706201290376), np.float64(953.981945109806)], [np.float64(-49.82597605747816), np.float64(843.6979105347187)]], 'TBER', np.float64(0.6423156261444092)), ([[np.float64(1609.3475833593711), np.float64(1044.0046268356584)], [np.float64(3080.9273881506333), np.float64(1482.4163944455302)], [np.float64(2949.652416640629), np.float64(1840.9953731643416)], [np.float64(1478.072611849367), np.float64(1402.5836055544698)]], 'FRESH', np.float64(0.9992653285725022)), ([[np.float64(1633.5670596767707), np.float64(1958.09373198431)], [np.float64(1714.2012060785423), np.float64(1993.6847951910754)], [np.float64(1600.4329403232293), np.float64(2253.90626801569)], [np.float64(1518.7987939214577), np.float64(2219.3152048089246)]], ']', np.float64(0.5929797398196435)), ([[np.float64(1856.103589176567), np.float64(2019.2075259869266)], [np.float64(1950.6148930984707), np.float64(2099.7043915371733)], [np.float64(1752.896410823433), np.float64(2315.7924740130734)], [np.float64(1657.3851069015293), np.float64(2235.2956084628267)]], 'E', np.float64(0.07986605337223196))]\n"
     ]
    }
   ],
   "source": [
    "print(results)"
   ]
  },
  {
   "cell_type": "code",
   "execution_count": null,
   "id": "c13c078e-a9f8-4ecb-a9bf-9e5e44664b08",
   "metadata": {},
   "outputs": [],
   "source": []
  }
 ],
 "metadata": {
  "kernelspec": {
   "display_name": "Python (venv)",
   "language": "python",
   "name": "venv"
  },
  "language_info": {
   "codemirror_mode": {
    "name": "ipython",
    "version": 3
   },
   "file_extension": ".py",
   "mimetype": "text/x-python",
   "name": "python",
   "nbconvert_exporter": "python",
   "pygments_lexer": "ipython3",
   "version": "3.10.16"
  }
 },
 "nbformat": 4,
 "nbformat_minor": 5
}
