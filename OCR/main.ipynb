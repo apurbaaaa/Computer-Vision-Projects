{
 "cells": [
  {
   "cell_type": "code",
   "execution_count": 5,
   "id": "eea92e9c-f779-4a10-b67e-586f9bb6411e",
   "metadata": {},
   "outputs": [],
   "source": [
    "import pytesseract\n",
    "from PIL import Image"
   ]
  },
  {
   "cell_type": "code",
   "execution_count": null,
   "id": "5a074230-db3d-490e-8fc9-f82836f324f6",
   "metadata": {},
   "outputs": [],
   "source": [
    "image_path = \"\"\n",
    "text = pytesseract.image_to_string(Image.open(image_path), lang = 'eng')\n",
    "print(text"
   ]
  }
 ],
 "metadata": {
  "kernelspec": {
   "display_name": "Python (venv)",
   "language": "python",
   "name": "venv"
  },
  "language_info": {
   "codemirror_mode": {
    "name": "ipython",
    "version": 3
   },
   "file_extension": ".py",
   "mimetype": "text/x-python",
   "name": "python",
   "nbconvert_exporter": "python",
   "pygments_lexer": "ipython3",
   "version": "3.10.16"
  }
 },
 "nbformat": 4,
 "nbformat_minor": 5
}
